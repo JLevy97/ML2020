{
  "nbformat": 4,
  "nbformat_minor": 0,
  "metadata": {
    "colab": {
      "name": "LevyQuiz1_2.ipynb",
      "provenance": [],
      "collapsed_sections": []
    },
    "kernelspec": {
      "name": "python3",
      "display_name": "Python 3"
    }
  },
  "cells": [
    {
      "cell_type": "markdown",
      "metadata": {
        "id": "OCPRledWaZcn",
        "colab_type": "text"
      },
      "source": [
        "**Quiz 1**\n",
        "\n",
        "'''\n",
        "Design a classification problem and provide your model's synthetic prediction results. Use appropriate metrics and explain the results.\n",
        " \n",
        "Create a notebook and use Sklearn with appropriate metrics to measure the performances and also discuss the results.\n",
        "*Note: You need to come up with either binary or multi-class classification problem\n",
        "*Note: You don't need to train a model for this quiz. You only come with your true and prediction list.\n",
        "Example:\n",
        "Problem: Spam Detection\n",
        "True Labels:       [1, 0, 1, 0, 0, 1, 0, 0, 1, 0, 1, 0, 0, 1, 0, 0, 1, 0, 1, 0, 0, 1, 0, 0]\n",
        "Predication:       [1, 1, 1, 1, 1, 1, 0, 0, 1, 1, 1, 1, 1, 1, 1, 1, 1, 1, 1, 1, 1, 1, 1, 0]\n",
        " \n",
        "Please just provide us with your Github URL'''"
      ]
    },
    {
      "cell_type": "markdown",
      "metadata": {
        "id": "2JVMWG-4buNP",
        "colab_type": "text"
      },
      "source": [
        "My classification problem: \n",
        "\n",
        "  -Binary problem\n",
        "  -is an individual a United States citizen\n"
      ]
    },
    {
      "cell_type": "code",
      "metadata": {
        "id": "YgsMg1a-Yv_2",
        "colab_type": "code",
        "colab": {
          "base_uri": "https://localhost:8080/",
          "height": 187
        },
        "outputId": "48293f5e-0de5-43ab-80ae-e97efc7f4d16"
      },
      "source": [
        "from sklearn.metrics import classification_report\n",
        "\n",
        "y_true = [0, 1, 1, 1, 1,0,1,0,0]\n",
        "y_prediction = [0, 0, 1, 1, 1,1,1,1,0]\n",
        "target_names = ['citizen','not a citizen']\n",
        "\n",
        "print(classification_report(y_true, y_prediction, target_names=target_names))"
      ],
      "execution_count": 6,
      "outputs": [
        {
          "output_type": "stream",
          "text": [
            "               precision    recall  f1-score   support\n",
            "\n",
            "      citizen       0.67      0.50      0.57         4\n",
            "not a citizen       0.67      0.80      0.73         5\n",
            "\n",
            "     accuracy                           0.67         9\n",
            "    macro avg       0.67      0.65      0.65         9\n",
            " weighted avg       0.67      0.67      0.66         9\n",
            "\n",
            "0.6666666666666666\n"
          ],
          "name": "stdout"
        }
      ]
    },
    {
      "cell_type": "markdown",
      "metadata": {
        "id": "gk3KhVBAnxFv",
        "colab_type": "text"
      },
      "source": [
        "the results and performances of the system(when run) result in:\n",
        "\n",
        "               precision    recall  f1-score   support\n",
        "\n",
        "      citizen       0.67      0.50      0.57         4\n",
        "not a citizen       0.67      0.80      0.73         5\n",
        "\n",
        "     accuracy                           0.67         9\n",
        "    macro avg       0.67      0.65      0.65         9\n",
        " weighted avg       0.67      0.67      0.66         9\n",
        "\n",
        " These results show that there is only a 67% accuracy to the test, meaning that the test is not too accurate for determining if a person is a citizen or not. Precision and recall combine to give an F1 score. The f1 score can also be seen as a way to test how accurate the test is. Thus, the test is better at determining if the person is not a citizen than determining if it is a citizen."
      ]
    },
    {
      "cell_type": "markdown",
      "metadata": {
        "id": "SKdyKPG8tWtn",
        "colab_type": "text"
      },
      "source": [
        "**Quiz 2**\n",
        "\n",
        "I can't find it right now"
      ]
    }
  ]
}